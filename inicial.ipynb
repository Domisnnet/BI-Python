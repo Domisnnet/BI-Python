{
 "cells": [
  {
   "cell_type": "markdown",
   "metadata": {},
   "source": [
    "# Python Insights - Analisando Dados com Python\n",
    "\n",
    "### Case - Cancelamento de Clientes\n",
    "\n",
    "Você foi contratado por uma empresa com mais de 800 mil clientes para um projeto de Dados. Recentemente a empresa percebeu que da sua base total de clientes, a maioria são clientes inativos, ou seja, que já cancelaram o serviço.\n",
    "\n",
    "Precisando melhorar seus resultados ela quer conseguir entender os principais motivos desses cancelamentos e quais as ações mais eficientes para reduzir esse número.\n",
    "\n",
    "Base de dados e arquivos: https://drive.google.com/drive/folders/1uDesZePdkhiraJmiyeZ-w5tfc8XsNYFZ?usp=drive_link"
   ]
  },
  {
   "cell_type": "markdown",
   "metadata": {},
   "source": [
    "# Python Insights -  Analisando Dados com Python\n",
    "\n",
    "### **Case - Análise de Cancelamento de Clientes**\n",
    "\n",
    "Você foi contratado por uma empresa com mais de 800 mil clientes para um projeto de Dados. Recentemente, a empresa notou que grande parte de sua base de clientes está inativa, indicando um alto índice de cancelamentos.\n",
    "\n",
    "Para melhorar seus resultados, o objetivo é entender os principais motivos por trás desses cancelamentos e identificar as ações mais eficientes para reduzir essa taxa.\n",
    "\n",
    "---\n",
    "\n",
    "**Base de Dados:**\n",
    "\n",
    "Os arquivos necessários para a análise estão disponíveis na pasta do Google Drive:\n",
    "[Base de dados e arquivos:](https://drive.google.com/drive/folders/1uDes7ePdkHiraJmiyeZ-w5lfc8K6NYFZ?usp=drive_link)"
   ]
  },
  {
   "cell_type": "markdown",
   "metadata": {},
   "source": [
    "# Projeto de Análise: Fatores de Cancelamento de Clientes\n",
    "\n",
    "### **Passo a Passo da Análise**\n",
    "\n",
    "1.  **Importação e Visualização:** Carregar os dados e fazer um primeiro diagnóstico.\n",
    "2.  **Tratamento de Dados:** Corrigir inconsistências e valores ausentes.\n",
    "3.  **Análise Exploratória:** Entender as principais características dos clientes.\n",
    "4.  **Análise de Cancelamentos:** Investigar a relação entre as colunas e o cancelamento."
   ]
  },
  {
   "cell_type": "code",
   "execution_count": null,
   "metadata": {},
   "outputs": [],
   "source": [
    "# Instalar bibliotecas necessárias:\n",
    "# Instalados via Terminal - pip install pandas numpy openpyxl nbformat ipykernel plotly\n",
    "\n",
    "# Passo 1: Importar a base de dados\n",
    "import pandas as pd\n",
    "\n",
    "# O código a seguir assume que o arquivo 'cancelamentos_sample.csv' foi carregado para o ambiente do Colab.\n",
    "# Se o arquivo estiver no seu Google Drive, você precisará montá-lo primeiro.\n",
    "tabela = pd.read_csv(\"cancelamentos_sample.csv\")\n",
    "\n",
    "# Passo 2: Pré-processamento e visualização inicial\n",
    "# Remover a coluna 'CustomerID', que é um identificador único e não contribui para a análise\n",
    "tabela = tabela.drop(columns=\"CustomerID\")\n",
    "\n",
    "# Exibir as primeiras 5 linhas para verificar o carregamento\n",
    "print(\"Visualização das primeiras 5 linhas da tabela:\")\n",
    "display(tabela.head())\n",
    "\n",
    "# Exibir informações sobre a tabela (tipos de dados, valores não nulos)\n",
    "print(\"\\nInformações sobre a tabela (tipos de dados e valores nulos):\")\n",
    "tabela.info()"
   ]
  },
  {
   "cell_type": "code",
   "execution_count": null,
   "metadata": {},
   "outputs": [],
   "source": [
    "# Passo 3: Análise inicial dos cancelamentos\n",
    "\n",
    "# quantas pessoas cancelaram e quantas não cancelaram\n",
    "display(tabela[\"cancelou\"].value_counts())\n",
    "\n",
    "# em percentual\n",
    "display(tabela[\"cancelou\"].value_counts(normalize=True))\n",
    "# display(tabela[\"cancelou\"].value_counts(normalize=True).map(\"{:.1%}\".format))"
   ]
  },
  {
   "cell_type": "code",
   "execution_count": null,
   "metadata": {},
   "outputs": [],
   "source": [
    "# Passo 4: Análise das causas dos cancelamentos (como as colunas da base impactam no cancelamento)\n",
    "# gráficos/dashboards\n",
    "\n",
    "import plotly.express as px\n",
    "\n",
    "# criar o grafico\n",
    "\n",
    "for coluna in tabela.columns:\n",
    "    grafico = px.histogram(tabela, x=coluna, color=\"cancelou\")\n",
    "    # exibir o grafico\n",
    "    grafico.show()"
   ]
  },
  {
   "cell_type": "markdown",
   "metadata": {},
   "source": [
    "### **Passo 5: Simulação de Melhorias e Impacto**\n",
    "\n",
    "Nesta etapa, vamos simular o impacto de aplicar as ações sugeridas para reduzir os cancelamentos. Vamos filtrar a base de dados para remover os clientes que, segundo nossa análise inicial, tendem a cancelar.\n",
    "\n",
    "* **Contrato Mensal:** Clientes com contrato mensal serão removidos, já que tendem a cancelar com alta frequência.\n",
    "* **Ligações ao Call Center:** Clientes com mais de 4 ligações serão removidos, simulando uma resolução mais eficiente dos problemas.\n",
    "* **Atrasos no Pagamento:** Clientes com atraso superior a 20 dias serão removidos, simulando uma ação proativa da equipe financeira."
   ]
  },
  {
   "cell_type": "code",
   "execution_count": null,
   "metadata": {},
   "outputs": [],
   "source": [
    "# Passo 5: Simular o impacto das ações de melhoria\n",
    "\n",
    "# Filtra a tabela para remover os clientes com contrato mensal\n",
    "tabela = tabela[tabela[\"duracao_contrato\"]!=\"Monthly\"]\n",
    "\n",
    "# Filtra a tabela para remover os clientes com mais de 4 ligações para o call center\n",
    "tabela = tabela[tabela[\"ligacoes_callcenter\"]<=4]\n",
    "\n",
    "# Filtra a tabela para remover os clientes com mais de 20 dias de atraso no pagamento\n",
    "tabela = tabela[tabela[\"dias_atraso\"]<=20]\n",
    "\n",
    "# Exibe a nova contagem de cancelamentos e o percentual\n",
    "print(\"Contagem de clientes cancelados após a simulação:\")\n",
    "display(tabela[\"cancelou\"].value_counts())\n",
    "\n",
    "print(\"\\nPercentual de clientes cancelados após a simulação:\")\n",
    "display(tabela[\"cancelou\"].value_counts(normalize=True))\n",
    "\n",
    "# Importar o nbformat\n",
    "# Instalado via Terminal - pip install nbformat --upgrade"
   ]
  },
  {
   "cell_type": "code",
   "execution_count": null,
   "metadata": {},
   "outputs": [],
   "source": [
    "# Passo 6 (adicional): Calcular a taxa de cancelamento original\n",
    "print(\"Taxa de cancelamento original:\")\n",
    "# Calcula e exibe a taxa de cancelamento na tabela original, antes de qualquer filtro\n",
    "display(tabela[\"cancelou\"].value_counts(normalize=True))"
   ]
  },
  {
   "cell_type": "code",
   "execution_count": null,
   "metadata": {},
   "outputs": [],
   "source": [
    "# Instalando uma versão Compatível do Plotly:\n",
    "!pip install plotly==5.24.0 \n",
    "\n",
    "import plotly.express as px\n",
    "import pandas as pd\n",
    "\n",
    "# Supondo que você já carregou sua tabela original aqui\n",
    "# Make sure to load the original table again after restarting the runtime\n",
    "tabela_original = pd.read_csv(\"cancelamentos_sample.csv\")\n",
    "\n",
    "# ... Seu código de simulação viria aqui ...\n",
    "# The result of the simulation should be stored in the 'tabela' variable before running this cell\n",
    "\n",
    "# Gráfico 1: Taxa de Cancelamento Original\n",
    "contagem_original = tabela_original[\"cancelou\"].value_counts().reset_index()\n",
    "contagem_original.columns = [\"Cancelou\", \"Total\"]\n",
    "fig1 = px.pie(contagem_original, values='Total', names='Cancelou', title='Taxa de Cancelamento Original')\n",
    "fig1.show()\n",
    "\n",
    "\n",
    "# Gráfico 2: Taxa de Cancelamento Após a Simulação\n",
    "contagem_filtrada = tabela[\"cancelou\"].value_counts().reset_index()\n",
    "contagem_filtrada.columns = [\"Cancelou\", \"Total\"]\n",
    "fig2 = px.pie(contagem_filtrada, values='Total', names='Cancelou', title='Taxa de Cancelamento Após a Simulação')\n",
    "fig2.show()"
   ]
  }
 ],
 "metadata": {
  "kernelspec": {
   "display_name": "base",
   "language": "python",
   "name": "python3"
  },
  "language_info": {
   "codemirror_mode": {
    "name": "ipython",
    "version": 3
   },
   "file_extension": ".py",
   "mimetype": "text/x-python",
   "name": "python",
   "nbconvert_exporter": "python",
   "pygments_lexer": "ipython3",
   "version": "3.10.9"
  },
  "orig_nbformat": 4
 },
 "nbformat": 4,
 "nbformat_minor": 2
}
